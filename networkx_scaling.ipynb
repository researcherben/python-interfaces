{
 "cells": [
  {
   "cell_type": "code",
   "execution_count": 1,
   "metadata": {},
   "outputs": [],
   "source": [
    "import networkx as nx\n",
    "import sys # https://docs.python.org/3/library/sys.html\n",
    "import time"
   ]
  },
  {
   "cell_type": "code",
   "execution_count": null,
   "metadata": {},
   "outputs": [],
   "source": [
    "start_time = time.time()\n",
    "G = nx.grid_graph(dim=(2000,2000))\n",
    "print(\"elapsed\",round(time.time()-start_time,2))\n",
    "\n",
    "#  300x 300 takes  17 seconds and consumes 83796760 bytes\n",
    "# 1000x1000 takes 146 seconds and consumes 83796760\n",
    "# 2000x2000 crashed on MacBook Air"
   ]
  },
  {
   "cell_type": "code",
   "execution_count": null,
   "metadata": {},
   "outputs": [],
   "source": [
    "# this is just the pointer to the data, so the size is irrelevant\n",
    "sys.getsizeof(G)\n",
    "# return value is in bytes"
   ]
  },
  {
   "cell_type": "code",
   "execution_count": null,
   "metadata": {},
   "outputs": [],
   "source": [
    "# from\n",
    "# https://stackoverflow.com/a/30316760/1164295\n",
    "from types import ModuleType, FunctionType\n",
    "from gc import get_referents\n",
    "\n",
    "# Custom objects know their class.\n",
    "# Function objects seem to know way too much, including modules.\n",
    "# Exclude modules as well.\n",
    "BLACKLIST = type, ModuleType, FunctionType\n",
    "\n",
    "\n",
    "def getsize(obj):\n",
    "    \"\"\"sum size of object & members.\"\"\"\n",
    "    if isinstance(obj, BLACKLIST):\n",
    "        raise TypeError('getsize() does not take argument of type: '+ str(type(obj)))\n",
    "    seen_ids = set()\n",
    "    size = 0\n",
    "    objects = [obj]\n",
    "    while objects:\n",
    "        need_referents = []\n",
    "        for obj in objects:\n",
    "            if not isinstance(obj, BLACKLIST) and id(obj) not in seen_ids:\n",
    "                seen_ids.add(id(obj))\n",
    "                size += sys.getsizeof(obj)\n",
    "                need_referents.append(obj)\n",
    "        objects = get_referents(*need_referents)\n",
    "    return size"
   ]
  },
  {
   "cell_type": "code",
   "execution_count": null,
   "metadata": {},
   "outputs": [],
   "source": [
    "getsize(G)"
   ]
  },
  {
   "cell_type": "code",
   "execution_count": null,
   "metadata": {},
   "outputs": [],
   "source": [
    "# from https://code.tutsplus.com/tutorials/understand-how-much-memory-your-python-objects-use--cms-25609\n",
    "from collections import Mapping, Container\n",
    "from sys import getsizeof\n",
    " \n",
    "def deep_getsizeof(o, ids):\n",
    "    \"\"\"Find the memory footprint of a Python object\n",
    " \n",
    "    This is a recursive function that drills down a Python object graph\n",
    "    like a dictionary holding nested dictionaries with lists of lists\n",
    "    and tuples and sets.\n",
    " \n",
    "    The sys.getsizeof function does a shallow size of only. It counts each\n",
    "    object inside a container as pointer only regardless of how big it\n",
    "    really is.\n",
    " \n",
    "    :param o: the object\n",
    "    :param ids:\n",
    "    :return:\n",
    "    \"\"\"\n",
    "    d = deep_getsizeof\n",
    "    if id(o) in ids:\n",
    "        return 0\n",
    " \n",
    "    r = getsizeof(o)\n",
    "    ids.add(id(o))\n",
    " \n",
    "    if isinstance(o, str) or isinstance(0, unicode):\n",
    "        return r\n",
    " \n",
    "    if isinstance(o, Mapping):\n",
    "        return r + sum(d(k, ids) + d(v, ids) for k, v in o.iteritems())\n",
    " \n",
    "    if isinstance(o, Container):\n",
    "        return r + sum(d(x, ids) for x in o)\n",
    " \n",
    "    return r "
   ]
  },
  {
   "cell_type": "code",
   "execution_count": null,
   "metadata": {},
   "outputs": [],
   "source": [
    "deep_getsizeof(G, set())"
   ]
  }
 ],
 "metadata": {
  "kernelspec": {
   "display_name": "Python 3",
   "language": "python",
   "name": "python3"
  },
  "language_info": {
   "codemirror_mode": {
    "name": "ipython",
    "version": 3
   },
   "file_extension": ".py",
   "mimetype": "text/x-python",
   "name": "python",
   "nbconvert_exporter": "python",
   "pygments_lexer": "ipython3",
   "version": "3.8.6"
  }
 },
 "nbformat": 4,
 "nbformat_minor": 4
}
